{
  "cells": [
    {
      "cell_type": "markdown",
      "metadata": {
        "id": "H9wADwK78DCz"
      },
      "source": [
        "# Proyek Analisis Data: order_payments_dataset dan sellers_dataset\n",
        "- **Nama:** Adi Purnama\n",
        "- **Email:** adipurnamaa8@gmail.com\n",
        "- **ID Dicoding:** adi_purnama8"
      ]
    },
    {
      "cell_type": "markdown",
      "metadata": {
        "id": "eE0raob58DC0"
      },
      "source": [
        "## Menentukan Pertanyaan Bisnis"
      ]
    },
    {
      "cell_type": "markdown",
      "metadata": {
        "id": "GmQeQ5YF8DC0"
      },
      "source": [
        "- Metode pembayaran apa yang paling sering digunakan oleh pelanggan?\n",
        "- Negara bagian mana yang memiliki jumlah penjual terbanyak dan tersedikit ?"
      ]
    },
    {
      "cell_type": "markdown",
      "metadata": {
        "id": "H-z4QGlO8DC1"
      },
      "source": [
        "## Import Semua Packages/Library yang Digunakan"
      ]
    },
    {
      "cell_type": "code",
      "execution_count": 9,
      "metadata": {
        "id": "FVYwaObI8DC1"
      },
      "outputs": [],
      "source": [
        "# Import library utama untuk analisis data\n",
        "import pandas as pd\n",
        "import numpy as np\n",
        "import matplotlib.pyplot as plt\n",
        "import seaborn as sns\n",
        "\n",
        "plt.style.use('ggplot')\n",
        "sns.set_theme(style=\"whitegrid\")\n"
      ]
    },
    {
      "cell_type": "markdown",
      "metadata": {
        "id": "h_Sh51Xy8DC1"
      },
      "source": [
        "## Data Wrangling"
      ]
    },
    {
      "cell_type": "markdown",
      "metadata": {
        "id": "sXU2GBYu8DC1"
      },
      "source": [
        "### Gathering Data"
      ]
    },
    {
      "cell_type": "code",
      "execution_count": 11,
      "metadata": {
        "id": "zjCBk1BI8DC1",
        "colab": {
          "base_uri": "https://localhost:8080/"
        },
        "outputId": "e86602a8-d755-4e8c-ed50-4ddc304fa1c7"
      },
      "outputs": [
        {
          "output_type": "execute_result",
          "data": {
            "text/plain": [
              "(                           order_id  payment_sequential payment_type  \\\n",
              " 0  b81ef226f3fe1789b1e8b2acac839d17                   1  credit_card   \n",
              " 1  a9810da82917af2d9aefd1278f1dcfa0                   1  credit_card   \n",
              " 2  25e8ea4e93396b6fa0d3dd708e76c1bd                   1  credit_card   \n",
              " 3  ba78997921bbcdc1373bb41e913ab953                   1  credit_card   \n",
              " 4  42fdf880ba16b47b59251dd489d4441a                   1  credit_card   \n",
              " \n",
              "    payment_installments  payment_value  \n",
              " 0                     8          99.33  \n",
              " 1                     1          24.39  \n",
              " 2                     1          65.71  \n",
              " 3                     8         107.78  \n",
              " 4                     2         128.45  ,\n",
              "                           seller_id  seller_zip_code_prefix  \\\n",
              " 0  3442f8959a84dea7ee197c632cb2df15                   13023   \n",
              " 1  d1b65fc7debc3361ea86b5f14c68d2e2                   13844   \n",
              " 2  ce3ad9de960102d0677a81f5d0bb7b2d                   20031   \n",
              " 3  c0f3eea2e14555b6faeea3dd58c1b1c3                    4195   \n",
              " 4  51a04a8a6bdcb23deccc82b0b80742cf                   12914   \n",
              " \n",
              "          seller_city seller_state  \n",
              " 0           campinas           SP  \n",
              " 1         mogi guacu           SP  \n",
              " 2     rio de janeiro           RJ  \n",
              " 3          sao paulo           SP  \n",
              " 4  braganca paulista           SP  )"
            ]
          },
          "metadata": {},
          "execution_count": 11
        }
      ],
      "source": [
        "# Load dataset transaksi pembayaran\n",
        "df_payment = pd.read_csv('/content/order_payments_dataset.csv')\n",
        "\n",
        "# Load dataset informasi penjual\n",
        "df_sellers = pd.read_csv('/content/sellers_dataset.csv')\n",
        "\n",
        "# Menampilkan 5 data pertama dari masing-masing dataset\n",
        "df_payment.head(), df_sellers.head()\n"
      ]
    },
    {
      "cell_type": "markdown",
      "source": [
        "**Insight:**\n",
        "- Dataset transaksi pembayaran dan informasi penjual telah berhasil dimuat.\n",
        "- Data ini akan digunakan untuk menjawab pertanyaan bisnis terkait metode pembayaran dan jumlah penjual di setiap negara bagian."
      ],
      "metadata": {
        "id": "MMi6xGaDkbCi"
      }
    },
    {
      "cell_type": "markdown",
      "metadata": {
        "id": "FHSiqaZp8DC1"
      },
      "source": [
        "### Assessing Data"
      ]
    },
    {
      "cell_type": "code",
      "source": [
        "# Melihat informasi umum dataset\n",
        "print(df_payment.info())\n",
        "print(df_sellers.info())\n",
        "\n",
        "# Mengecek missing values\n",
        "print(\"Missing values di df_payment:\\n\", df_payment.isna().sum())\n",
        "print(\"\\nMissing values di df_sellers:\\n\", df_sellers.isna().sum())\n",
        "\n",
        "# Mengecek duplikasi data\n",
        "print(\"\\nJumlah data duplikat di df_payment:\", df_payment.duplicated().sum())\n",
        "print(\"Jumlah data duplikat di df_sellers:\", df_sellers.duplicated().sum())\n",
        "\n",
        "# Mengecek nilai unik dari kolom penting\n",
        "print(\"\\nMetode pembayaran unik:\", df_payment['payment_type'].unique())\n",
        "print(\"Negara bagian unik:\", df_sellers['seller_state'].unique())\n",
        "\n",
        "\n"
      ],
      "metadata": {
        "id": "ax-3tEjc9Cj1",
        "colab": {
          "base_uri": "https://localhost:8080/"
        },
        "outputId": "9a920148-3e3e-4118-f409-a0382b5fa929"
      },
      "execution_count": 19,
      "outputs": [
        {
          "output_type": "stream",
          "name": "stdout",
          "text": [
            "<class 'pandas.core.frame.DataFrame'>\n",
            "RangeIndex: 103886 entries, 0 to 103885\n",
            "Data columns (total 5 columns):\n",
            " #   Column                Non-Null Count   Dtype  \n",
            "---  ------                --------------   -----  \n",
            " 0   order_id              103886 non-null  object \n",
            " 1   payment_sequential    103886 non-null  int64  \n",
            " 2   payment_type          103886 non-null  object \n",
            " 3   payment_installments  103886 non-null  int64  \n",
            " 4   payment_value         103886 non-null  float64\n",
            "dtypes: float64(1), int64(2), object(2)\n",
            "memory usage: 4.0+ MB\n",
            "None\n",
            "<class 'pandas.core.frame.DataFrame'>\n",
            "RangeIndex: 3095 entries, 0 to 3094\n",
            "Data columns (total 4 columns):\n",
            " #   Column                  Non-Null Count  Dtype \n",
            "---  ------                  --------------  ----- \n",
            " 0   seller_id               3095 non-null   object\n",
            " 1   seller_zip_code_prefix  3095 non-null   int64 \n",
            " 2   seller_city             3095 non-null   object\n",
            " 3   seller_state            3095 non-null   object\n",
            "dtypes: int64(1), object(3)\n",
            "memory usage: 96.8+ KB\n",
            "None\n",
            "Missing values di df_payment:\n",
            " order_id                0\n",
            "payment_sequential      0\n",
            "payment_type            0\n",
            "payment_installments    0\n",
            "payment_value           0\n",
            "dtype: int64\n",
            "\n",
            "Missing values di df_sellers:\n",
            " seller_id                 0\n",
            "seller_zip_code_prefix    0\n",
            "seller_city               0\n",
            "seller_state              0\n",
            "dtype: int64\n",
            "\n",
            "Jumlah data duplikat di df_payment: 0\n",
            "Jumlah data duplikat di df_sellers: 0\n",
            "\n",
            "Metode pembayaran unik: ['credit_card' 'boleto' 'voucher' 'debit_card' 'not_defined']\n",
            "Negara bagian unik: ['SP' 'RJ' 'PE' 'PR' 'GO' 'SC' 'BA' 'DF' 'RS' 'MG' 'RN' 'MT' 'CE' 'PB'\n",
            " 'AC' 'ES' 'RO' 'PI' 'MS' 'SE' 'MA' 'AM' 'PA']\n"
          ]
        }
      ]
    },
    {
      "cell_type": "markdown",
      "source": [
        "**Insight:**\n",
        "1. Kualitas Data\n",
        "\n",
        "- Tidak ada missing values dan data duplikat, data sudah bersih.\n",
        "\n",
        "2. Metode Pembayaran\n",
        "\n",
        "- Terdapat 5 metode: credit_card, boleto, voucher, debit_card, not_defined.\n",
        "3. distribusi penjual\n",
        "\n",
        "- Penjual tersebar di berbagai negara bagian, mayoritas di SP, RJ, PE, PR, dll."
      ],
      "metadata": {
        "id": "7dtxhAPrkhPL"
      }
    },
    {
      "cell_type": "code",
      "source": [],
      "metadata": {
        "id": "nOLkEF9dzXY1"
      },
      "execution_count": null,
      "outputs": []
    },
    {
      "cell_type": "markdown",
      "metadata": {
        "id": "EhN5R4hr8DC1"
      },
      "source": [
        "### Cleaning Data"
      ]
    },
    {
      "cell_type": "code",
      "source": [
        "# Menghapus baris yang memiliki missing values\n",
        "df_payment_clean = df_payment.dropna()\n",
        "df_sellers_clean = df_sellers.dropna()\n",
        "\n",
        "# Menghapus data duplikat\n",
        "df_payment_clean = df_payment_clean.drop_duplicates()\n",
        "df_sellers_clean = df_sellers_clean.drop_duplicates()\n"
      ],
      "metadata": {
        "id": "jVnYpprE9Evz"
      },
      "execution_count": 20,
      "outputs": []
    },
    {
      "cell_type": "markdown",
      "source": [
        "**Insight:**\n",
        "- tidak ada miising value\n",
        "-tidak ada data duplikat\n"
      ],
      "metadata": {
        "id": "Q_5ejIqckiSP"
      }
    },
    {
      "cell_type": "markdown",
      "metadata": {
        "id": "gp-Y6wU38DC1"
      },
      "source": [
        "## Exploratory Data Analysis (EDA)"
      ]
    },
    {
      "cell_type": "markdown",
      "metadata": {
        "id": "MW7WF2kr8DC1"
      },
      "source": [
        "### Explore ..."
      ]
    },
    {
      "cell_type": "code",
      "execution_count": 34,
      "metadata": {
        "id": "e9CQCZjk8DC2",
        "colab": {
          "base_uri": "https://localhost:8080/"
        },
        "outputId": "dc36f9e3-8c52-4a06-834e-f2332e0c6e12"
      },
      "outputs": [
        {
          "output_type": "stream",
          "name": "stdout",
          "text": [
            "Metode pembayaran paling sering digunakan:\n",
            " payment_type\n",
            "credit_card    76795\n",
            "boleto         19784\n",
            "voucher         5775\n",
            "debit_card      1529\n",
            "not_defined        3\n",
            "Name: count, dtype: int64\n"
          ]
        }
      ],
      "source": [
        "# Metode pembayaran paling sering digunakan\n",
        "payment_counts = df_payment_clean['payment_type'].value_counts()\n",
        "print(\"Metode pembayaran paling sering digunakan:\\n\", payment_counts)\n"
      ]
    },
    {
      "cell_type": "markdown",
      "source": [
        "**Insight:**\n",
        "1. Metode Pembayaran Paling Populer\n",
        "\n",
        "- Credit card (76.795 transaksi) menjadi metode pembayaran paling dominan.\n",
        "- Boleto (19.784 transaksi) adalah metode alternatif utama.\n",
        "- Voucher dan debit card jauh lebih jarang digunakan.\n",
        "- Metode \"not_defined\" hanya muncul 3 kali, bisa jadi error atau transaksi spesial."
      ],
      "metadata": {
        "id": "MF2Rwm5K3EG7"
      }
    },
    {
      "cell_type": "code",
      "source": [
        "# Negara bagian dengan jumlah penjual terbanyak dan tersedikit\n",
        "sellers_per_state = df_sellers_clean['seller_state'].value_counts()\n",
        "print(\"\\nNegara bagian dengan jumlah penjual terbanyak:\\n\", sellers_per_state.head(1))\n",
        "print(\"\\nNegara bagian dengan jumlah penjual tersedikit:\\n\", sellers_per_state.tail(1))\n"
      ],
      "metadata": {
        "colab": {
          "base_uri": "https://localhost:8080/"
        },
        "id": "Cdz5cEF0va-n",
        "outputId": "242b3374-b519-4f31-a975-18dbe39b6377"
      },
      "execution_count": 33,
      "outputs": [
        {
          "output_type": "stream",
          "name": "stdout",
          "text": [
            "\n",
            "Negara bagian dengan jumlah penjual terbanyak:\n",
            " seller_state\n",
            "SP    1849\n",
            "Name: count, dtype: int64\n",
            "\n",
            "Negara bagian dengan jumlah penjual tersedikit:\n",
            " seller_state\n",
            "PA    1\n",
            "Name: count, dtype: int64\n"
          ]
        }
      ]
    },
    {
      "cell_type": "markdown",
      "source": [
        "**Insight:**\n",
        "\n",
        "1. Distribusi Penjual per Negara Bagian\n",
        "\n",
        "- SP (São Paulo) memiliki jumlah penjual terbanyak (1.849 penjual).\n",
        "- PA (Pará) hanya memiliki 1 penjual, menunjukkan potensi ekspansi di wilayah ini."
      ],
      "metadata": {
        "id": "th_Lzl2Fkj9O"
      }
    },
    {
      "cell_type": "markdown",
      "metadata": {
        "id": "zsyZjqak8DC2"
      },
      "source": [
        "## Visualization & Explanatory Analysis"
      ]
    },
    {
      "cell_type": "markdown",
      "metadata": {
        "id": "HZxOiQ6n8DC2"
      },
      "source": [
        "### Pertanyaan 1:"
      ]
    },
    {
      "cell_type": "code",
      "execution_count": 35,
      "metadata": {
        "id": "1swJUdAD8DC2",
        "colab": {
          "base_uri": "https://localhost:8080/",
          "height": 646
        },
        "outputId": "4b5cc78d-67e2-4459-da9a-423c8e6a4af4"
      },
      "outputs": [
        {
          "output_type": "stream",
          "name": "stderr",
          "text": [
            "<ipython-input-35-755ae6776d89>:3: FutureWarning: \n",
            "\n",
            "Passing `palette` without assigning `hue` is deprecated and will be removed in v0.14.0. Assign the `x` variable to `hue` and set `legend=False` for the same effect.\n",
            "\n",
            "  sns.barplot(x=payment_counts.index, y=payment_counts.values, palette=\"Blues\")\n"
          ]
        },
        {
          "output_type": "display_data",
          "data": {
            "text/plain": [
              "<Figure size 800x500 with 1 Axes>"
            ],
            "image/png": "[encoded data removed]"
          },
          "metadata": {}
        }
      ],
      "source": [
        "# Visualisasi metode pembayaran\n",
        "plt.figure(figsize=(8,5))\n",
        "sns.barplot(x=payment_counts.index, y=payment_counts.values, palette=\"Blues\")\n",
        "plt.title(\"Metode Pembayaran Paling Sering Digunakan\")\n",
        "plt.xlabel(\"Metode Pembayaran\")\n",
        "plt.ylabel(\"Jumlah Transaksi\")\n",
        "plt.xticks(rotation=45)\n",
        "plt.show()\n"
      ]
    },
    {
      "cell_type": "markdown",
      "source": [
        "**Insight:**\n",
        "1. Credit Card Mendominasi\n",
        "\n",
        "- Metode credit card paling banyak digunakan dengan hampir 80.000 transaksi, menunjukkan mayoritas pelanggan lebih memilih pembayaran instan dan praktis.\n",
        "\n",
        "2. Boleto Sebagai Alternatif Utama\n",
        "- Boleto (hampir 20.000 transaksi) menjadi metode pembayaran kedua terbanyak, yang mungkin menunjukkan preferensi pengguna tanpa akses ke kartu kredit atau yang lebih nyaman dengan pembayaran offline.\n",
        "\n",
        "3. Voucher dan Debit Card Kurang Populer\n",
        "- Penggunaan voucher dan debit card jauh lebih sedikit, menunjukkan bahwa metode ini kurang diminati atau kurang mendapat promosi yang cukup.\n",
        "4. Metode ‘Not Defined’\n",
        "- Jumlah transaksi yang tidak terdefinisi sangat kecil, tetapi tetap perlu dipantau untuk memastikan data tidak bermasalah."
      ],
      "metadata": {
        "id": "pkoGx_n40bAz"
      }
    },
    {
      "cell_type": "markdown",
      "metadata": {
        "id": "DgHI7CiU8DC2"
      },
      "source": [
        "### Pertanyaan 2:"
      ]
    },
    {
      "cell_type": "code",
      "execution_count": 36,
      "metadata": {
        "id": "Go0lCsvO8DC2",
        "colab": {
          "base_uri": "https://localhost:8080/",
          "height": 673
        },
        "outputId": "531d4693-f36b-459f-db79-3b504e33ee9b"
      },
      "outputs": [
        {
          "output_type": "stream",
          "name": "stderr",
          "text": [
            "<ipython-input-36-e4cb32a9baf6>:3: FutureWarning: \n",
            "\n",
            "Passing `palette` without assigning `hue` is deprecated and will be removed in v0.14.0. Assign the `x` variable to `hue` and set `legend=False` for the same effect.\n",
            "\n",
            "  sns.barplot(x=sellers_per_state.index, y=sellers_per_state.values, palette=\"Greens\")\n"
          ]
        },
        {
          "output_type": "display_data",
          "data": {
            "text/plain": [
              "<Figure size 1000x600 with 1 Axes>"
            ],
            "image/png": "[encoded data removed]"
          },
          "metadata": {}
        }
      ],
      "source": [
        "# Visualisasi jumlah penjual per negara bagian\n",
        "plt.figure(figsize=(10,6))\n",
        "sns.barplot(x=sellers_per_state.index, y=sellers_per_state.values, palette=\"Greens\")\n",
        "plt.title(\"Jumlah Penjual di Setiap Negara Bagian\")\n",
        "plt.xlabel(\"Negara Bagian\")\n",
        "plt.ylabel(\"Jumlah Penjual\")\n",
        "plt.xticks(rotation=90)\n",
        "plt.show()"
      ]
    },
    {
      "cell_type": "markdown",
      "source": [
        "**Insight:**\n",
        "\n",
        "1. SP (São Paulo) Mendominasi\n",
        "- Hampir 1.800 penjual, jauh melampaui negara bagian lain. Ini menunjukkan SP sebagai pusat perdagangan utama.\n",
        "\n",
        "2. Negara Bagian Lain Tertinggal\n",
        "- PR, MG, SC, RJ berada di posisi berikutnya, tetapi jumlahnya jauh lebih kecil.\n",
        "\n",
        "3. Wilayah dengan Penjual Minim\n",
        "- PA, AM, MA, PI hampir tidak memiliki penjual, mungkin karena faktor ekonomi atau geografis."
      ],
      "metadata": {
        "id": "NEewW-Le1jdm"
      }
    },
    {
      "cell_type": "markdown",
      "source": [
        "## Analisis Lanjutan (Opsional)"
      ],
      "metadata": {
        "id": "9y4VUsmcYNZ5"
      }
    },
    {
      "cell_type": "markdown",
      "metadata": {
        "id": "_WeHlCeX8DC2"
      },
      "source": [
        "## Conclusion"
      ]
    },
    {
      "cell_type": "markdown",
      "metadata": {
        "id": "ZTcyR48Y8DC2"
      },
      "source": [
        "**1. Metode Pembayaran Paling Populer**\n",
        "- Credit Card Mendominasi – Dengan 76.795 transaksi, kartu kredit menjadi metode pembayaran utama, menunjukkan preferensi pelanggan terhadap pembayaran cepat dan instan.\n",
        "- Boleto sebagai Alternatif – Sebanyak 19.784 transaksi menggunakan boleto, mengindikasikan adanya segmen pelanggan yang lebih nyaman dengan pembayaran offline atau tidak memiliki akses ke kartu kredit.\n",
        "- Voucher dan Debit Card Kurang Diminati – Penggunaan metode ini jauh lebih rendah, menunjukkan kurangnya daya tarik atau promosi.\n",
        "- \"Not Defined\" (3 Transaksi) – Perlu dievaluasi lebih lanjut, apakah ini merupakan kesalahan pencatatan atau transaksi spesial.\n",
        "\n",
        "**2. Distribusi Penjual per Negara Bagian**\n",
        "- São Paulo (SP) sebagai Pusat Penjualan – Dengan 1.849 penjual, SP menjadi negara bagian dengan aktivitas perdagangan tertinggi. Ini menegaskan posisinya sebagai pusat ekonomi utama di Brasil.\n",
        "- Negara Bagian dengan Sedikit Penjual – PA (Pará) hanya memiliki 1 penjual, menunjukkan potensi ekspansi bisnis di wilayah ini.\n",
        "- Ketimpangan Distribusi – Beberapa negara bagian seperti PR, MG, SC, dan RJ memiliki jumlah penjual yang cukup signifikan, tetapi masih tertinggal jauh dari SP. Sementara itu, wilayah seperti PA, AM, MA, dan PI hampir tidak memiliki penjual. Faktor geografis dan ekonomi mungkin menjadi penghambat.\n",
        "\n",
        "**3. Implikasi Bisnis & Rekomendasi**\n",
        "- Strategi Pembayaran – Optimalkan metode credit card karena paling populer, namun tingkatkan edukasi dan promosi untuk metode alternatif seperti boleto dll.\n",
        "- Ekspansi Geografis – Fokus pada negara bagian dengan jumlah penjual rendah (PA, AM, MA, PI) sebagai target ekspansi, misalnya dengan meningkatkan dukungan infrastruktur logistik dan pemasaran.\n",
        "- Investigasi Data \"Not Defined\" – Pastikan tidak ada masalah teknis atau kesalahan pencatatan yang dapat mengganggu analisis data transaksi."
      ]
    }
  ],
  "metadata": {
    "kernelspec": {
      "display_name": "Python 3",
      "language": "python",
      "name": "python3"
    },
    "language_info": {
      "name": "python",
      "version": "3.8.0 (tags/v3.8.0:fa919fd, Oct 14 2019, 19:21:23) [MSC v.1916 32 bit (Intel)]"
    },
    "orig_nbformat": 4,
    "vscode": {
      "interpreter": {
        "hash": "972b3bf27e332e87b5379f2791f6ef9dfc79c71018c370b0d7423235e20fe4d7"
      }
    },
    "colab": {
      "provenance": []
    }
  },
  "nbformat": 4,
  "nbformat_minor": 0
}